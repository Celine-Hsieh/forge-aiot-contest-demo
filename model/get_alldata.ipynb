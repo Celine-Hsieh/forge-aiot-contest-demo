{
 "cells": [
  {
   "cell_type": "code",
   "execution_count": 2,
   "metadata": {},
   "outputs": [],
   "source": [
    "import json, requests \n",
    "from urllib.request import urlopen\n",
    "import urllib.request as url\n",
    "import time\n",
    "import pandas as pd\n",
    "from datetime import datetime\n",
    "from datetime import datetime, timezone, timedelta"
   ]
  },
  {
   "cell_type": "code",
   "execution_count": 143,
   "metadata": {},
   "outputs": [
    {
     "name": "stdout",
     "output_type": "stream",
     "text": [
      "b'{\"temp\": 22.4, \"CO2\": 1627, \"RH\": 47.7, \"PM25\": 0.2, \"PplCnt\": 5, \"OccStat\": 1, \"LgtStat\": 2, \"PNO\": 15570, \"Ppl\": [{\"ID\": 88, \"ImgX\": 394, \"ImgY\": 92, \"ActLvl\": 1}, {\"ID\": 114, \"ImgX\": 184, \"ImgY\": 218, \"ActLvl\": 2}, {\"ID\": 135, \"ImgX\": 418, \"ImgY\": 254, \"ActLvl\": 2}, {\"ID\": 139, \"ImgX\": 352, \"ImgY\": 282, \"ActLvl\": 14}, {\"ID\": 142, \"ImgX\": 432, \"ImgY\": 276, \"ActLvl\": 2}], \"time\": \"2022-7-7-0:49:30\"}'\n"
     ]
    }
   ],
   "source": [
    "# url = \"http://140.116.179.11:9000/sensor_now\"\n",
    "# # url = \"http://140.116.179.11:9000/get_many_sensor?num=10\"\n",
    "# response = urlopen(url)\n",
    "# print(response.read())\n",
    "# # response.text\n",
    "# # print(json.loads(response.read()))\n",
    "# # response.read()"
   ]
  },
  {
   "cell_type": "code",
   "execution_count": null,
   "metadata": {},
   "outputs": [],
   "source": [
    "response_API = requests.get(\"http://140.116.179.11:9000/get_many_sensor2?num=100\")\n",
    "# response_API = requests.get(\"http://140.116.179.11:9000/sensor_now\")\n",
    "\n"
   ]
  },
  {
   "cell_type": "code",
   "execution_count": 15,
   "metadata": {},
   "outputs": [],
   "source": [
    "# response_API.content"
   ]
  },
  {
   "cell_type": "code",
   "execution_count": null,
   "metadata": {},
   "outputs": [],
   "source": [
    "a = json.loads(response_API.content)"
   ]
  },
  {
   "cell_type": "code",
   "execution_count": null,
   "metadata": {},
   "outputs": [],
   "source": [
    "# df = pd.json_normalize(data_json)"
   ]
  },
  {
   "cell_type": "code",
   "execution_count": 18,
   "metadata": {},
   "outputs": [
    {
     "ename": "KeyboardInterrupt",
     "evalue": "",
     "output_type": "error",
     "traceback": [
      "\u001b[1;31m---------------------------------------------------------------------------\u001b[0m",
      "\u001b[1;31mKeyboardInterrupt\u001b[0m                         Traceback (most recent call last)",
      "\u001b[1;32mc:\\Users\\AIoT\\Desktop\\eric\\get_alldata.ipynb Cell 7'\u001b[0m in \u001b[0;36m<cell line: 2>\u001b[1;34m()\u001b[0m\n\u001b[0;32m      <a href='vscode-notebook-cell:/c%3A/Users/AIoT/Desktop/eric/get_alldata.ipynb#ch0000050?line=5'>6</a>\u001b[0m     df \u001b[39m=\u001b[39m pd\u001b[39m.\u001b[39mjson_normalize(b)\n\u001b[0;32m      <a href='vscode-notebook-cell:/c%3A/Users/AIoT/Desktop/eric/get_alldata.ipynb#ch0000050?line=6'>7</a>\u001b[0m \u001b[39melse\u001b[39;00m:\n\u001b[1;32m----> <a href='vscode-notebook-cell:/c%3A/Users/AIoT/Desktop/eric/get_alldata.ipynb#ch0000050?line=7'>8</a>\u001b[0m     df \u001b[39m=\u001b[39m pd\u001b[39m.\u001b[39;49mconcat([df, df])\n",
      "File \u001b[1;32mc:\\Users\\AIoT\\anaconda3\\lib\\site-packages\\pandas\\util\\_decorators.py:311\u001b[0m, in \u001b[0;36mdeprecate_nonkeyword_arguments.<locals>.decorate.<locals>.wrapper\u001b[1;34m(*args, **kwargs)\u001b[0m\n\u001b[0;32m    305\u001b[0m \u001b[39mif\u001b[39;00m \u001b[39mlen\u001b[39m(args) \u001b[39m>\u001b[39m num_allow_args:\n\u001b[0;32m    306\u001b[0m     warnings\u001b[39m.\u001b[39mwarn(\n\u001b[0;32m    307\u001b[0m         msg\u001b[39m.\u001b[39mformat(arguments\u001b[39m=\u001b[39marguments),\n\u001b[0;32m    308\u001b[0m         \u001b[39mFutureWarning\u001b[39;00m,\n\u001b[0;32m    309\u001b[0m         stacklevel\u001b[39m=\u001b[39mstacklevel,\n\u001b[0;32m    310\u001b[0m     )\n\u001b[1;32m--> 311\u001b[0m \u001b[39mreturn\u001b[39;00m func(\u001b[39m*\u001b[39margs, \u001b[39m*\u001b[39m\u001b[39m*\u001b[39mkwargs)\n",
      "File \u001b[1;32mc:\\Users\\AIoT\\anaconda3\\lib\\site-packages\\pandas\\core\\reshape\\concat.py:360\u001b[0m, in \u001b[0;36mconcat\u001b[1;34m(objs, axis, join, ignore_index, keys, levels, names, verify_integrity, sort, copy)\u001b[0m\n\u001b[0;32m    156\u001b[0m \u001b[39m\"\"\"\u001b[39;00m\n\u001b[0;32m    157\u001b[0m \u001b[39mConcatenate pandas objects along a particular axis with optional set logic\u001b[39;00m\n\u001b[0;32m    158\u001b[0m \u001b[39malong the other axes.\u001b[39;00m\n\u001b[1;32m   (...)\u001b[0m\n\u001b[0;32m    345\u001b[0m \u001b[39mValueError: Indexes have overlapping values: ['a']\u001b[39;00m\n\u001b[0;32m    346\u001b[0m \u001b[39m\"\"\"\u001b[39;00m\n\u001b[0;32m    347\u001b[0m op \u001b[39m=\u001b[39m _Concatenator(\n\u001b[0;32m    348\u001b[0m     objs,\n\u001b[0;32m    349\u001b[0m     axis\u001b[39m=\u001b[39maxis,\n\u001b[1;32m   (...)\u001b[0m\n\u001b[0;32m    357\u001b[0m     sort\u001b[39m=\u001b[39msort,\n\u001b[0;32m    358\u001b[0m )\n\u001b[1;32m--> 360\u001b[0m \u001b[39mreturn\u001b[39;00m op\u001b[39m.\u001b[39;49mget_result()\n",
      "File \u001b[1;32mc:\\Users\\AIoT\\anaconda3\\lib\\site-packages\\pandas\\core\\reshape\\concat.py:595\u001b[0m, in \u001b[0;36m_Concatenator.get_result\u001b[1;34m(self)\u001b[0m\n\u001b[0;32m    591\u001b[0m             indexers[ax] \u001b[39m=\u001b[39m obj_labels\u001b[39m.\u001b[39mget_indexer(new_labels)\n\u001b[0;32m    593\u001b[0m     mgrs_indexers\u001b[39m.\u001b[39mappend((obj\u001b[39m.\u001b[39m_mgr, indexers))\n\u001b[1;32m--> 595\u001b[0m new_data \u001b[39m=\u001b[39m concatenate_managers(\n\u001b[0;32m    596\u001b[0m     mgrs_indexers, \u001b[39mself\u001b[39;49m\u001b[39m.\u001b[39;49mnew_axes, concat_axis\u001b[39m=\u001b[39;49m\u001b[39mself\u001b[39;49m\u001b[39m.\u001b[39;49mbm_axis, copy\u001b[39m=\u001b[39;49m\u001b[39mself\u001b[39;49m\u001b[39m.\u001b[39;49mcopy\n\u001b[0;32m    597\u001b[0m )\n\u001b[0;32m    598\u001b[0m \u001b[39mif\u001b[39;00m \u001b[39mnot\u001b[39;00m \u001b[39mself\u001b[39m\u001b[39m.\u001b[39mcopy:\n\u001b[0;32m    599\u001b[0m     new_data\u001b[39m.\u001b[39m_consolidate_inplace()\n",
      "File \u001b[1;32mc:\\Users\\AIoT\\anaconda3\\lib\\site-packages\\pandas\\core\\internals\\concat.py:231\u001b[0m, in \u001b[0;36mconcatenate_managers\u001b[1;34m(mgrs_indexers, axes, concat_axis, copy)\u001b[0m\n\u001b[0;32m    225\u001b[0m vals \u001b[39m=\u001b[39m [ju\u001b[39m.\u001b[39mblock\u001b[39m.\u001b[39mvalues \u001b[39mfor\u001b[39;00m ju \u001b[39min\u001b[39;00m join_units]\n\u001b[0;32m    227\u001b[0m \u001b[39mif\u001b[39;00m \u001b[39mnot\u001b[39;00m blk\u001b[39m.\u001b[39mis_extension:\n\u001b[0;32m    228\u001b[0m     \u001b[39m# _is_uniform_join_units ensures a single dtype, so\u001b[39;00m\n\u001b[0;32m    229\u001b[0m     \u001b[39m#  we can use np.concatenate, which is more performant\u001b[39;00m\n\u001b[0;32m    230\u001b[0m     \u001b[39m#  than concat_compat\u001b[39;00m\n\u001b[1;32m--> 231\u001b[0m     values \u001b[39m=\u001b[39m np\u001b[39m.\u001b[39;49mconcatenate(vals, axis\u001b[39m=\u001b[39;49m\u001b[39m1\u001b[39;49m)\n\u001b[0;32m    232\u001b[0m \u001b[39melse\u001b[39;00m:\n\u001b[0;32m    233\u001b[0m     \u001b[39m# TODO(EA2D): special-casing not needed with 2D EAs\u001b[39;00m\n\u001b[0;32m    234\u001b[0m     values \u001b[39m=\u001b[39m concat_compat(vals, axis\u001b[39m=\u001b[39m\u001b[39m1\u001b[39m)\n",
      "\u001b[1;31mKeyboardInterrupt\u001b[0m: "
     ]
    }
   ],
   "source": [
    "# data = pd.DataFrame()\n",
    "for i in range(len(a)):\n",
    "    #if(n%60==0):\n",
    "    b = json.loads(a[i])\n",
    "    if i == 0:\n",
    "        df = pd.json_normalize(b)\n",
    "    else:\n",
    "        df2 = pd.json_normalize(b)\n",
    "        df = pd.concat([df, df2])\n",
    "    # data = pd.concat([data, df])\n"
   ]
  },
  {
   "cell_type": "code",
   "execution_count": 17,
   "metadata": {},
   "outputs": [
    {
     "data": {
      "text/html": [
       "<div>\n",
       "<style scoped>\n",
       "    .dataframe tbody tr th:only-of-type {\n",
       "        vertical-align: middle;\n",
       "    }\n",
       "\n",
       "    .dataframe tbody tr th {\n",
       "        vertical-align: top;\n",
       "    }\n",
       "\n",
       "    .dataframe thead th {\n",
       "        text-align: right;\n",
       "    }\n",
       "</style>\n",
       "<table border=\"1\" class=\"dataframe\">\n",
       "  <thead>\n",
       "    <tr style=\"text-align: right;\">\n",
       "      <th></th>\n",
       "      <th>temp</th>\n",
       "      <th>CO2</th>\n",
       "      <th>RH</th>\n",
       "      <th>PM25</th>\n",
       "      <th>PplCnt</th>\n",
       "      <th>OccStat</th>\n",
       "      <th>LgtStat</th>\n",
       "      <th>PNO</th>\n",
       "      <th>Ppl</th>\n",
       "      <th>time</th>\n",
       "    </tr>\n",
       "  </thead>\n",
       "  <tbody>\n",
       "    <tr>\n",
       "      <th>0</th>\n",
       "      <td>22.2</td>\n",
       "      <td>1642</td>\n",
       "      <td>45.9</td>\n",
       "      <td>0.4</td>\n",
       "      <td>7</td>\n",
       "      <td>1</td>\n",
       "      <td>2</td>\n",
       "      <td>16154</td>\n",
       "      <td>[{'ID': 69, 'ImgX': 178, 'ImgY': 218, 'ActLvl'...</td>\n",
       "      <td>2022-7-7-0:49:30</td>\n",
       "    </tr>\n",
       "  </tbody>\n",
       "</table>\n",
       "</div>"
      ],
      "text/plain": [
       "   temp   CO2    RH  PM25  PplCnt  OccStat  LgtStat    PNO  \\\n",
       "0  22.2  1642  45.9   0.4       7        1        2  16154   \n",
       "\n",
       "                                                 Ppl              time  \n",
       "0  [{'ID': 69, 'ImgX': 178, 'ImgY': 218, 'ActLvl'...  2022-7-7-0:49:30  "
      ]
     },
     "execution_count": 17,
     "metadata": {},
     "output_type": "execute_result"
    }
   ],
   "source": [
    "df"
   ]
  },
  {
   "cell_type": "code",
   "execution_count": null,
   "metadata": {},
   "outputs": [],
   "source": [
    "# df.to_csv(\"samplecsv2.csv\")"
   ]
  },
  {
   "cell_type": "code",
   "execution_count": 17,
   "metadata": {},
   "outputs": [],
   "source": [
    "b = json.loads(a[0])\n",
    "df = pd.json_normalize(b)\n"
   ]
  },
  {
   "cell_type": "code",
   "execution_count": 18,
   "metadata": {},
   "outputs": [],
   "source": [
    "c = json.loads(a[1])\n",
    "df2 = pd.json_normalize(c)"
   ]
  },
  {
   "cell_type": "code",
   "execution_count": 19,
   "metadata": {},
   "outputs": [],
   "source": [
    "df3 = pd.concat([df, df2])\n",
    "df3.to_csv(\"samplecsv.csv\")"
   ]
  },
  {
   "cell_type": "code",
   "execution_count": 9,
   "metadata": {},
   "outputs": [
    {
     "data": {
      "text/plain": [
       "'{\"temp\": 22.2, \"CO2\": 1691, \"RH\": 47.1, \"PM25\": 0.2, \"PplCnt\": 10, \"OccStat\": 1, \"LgtStat\": 2, \"PNO\": 15761, \"Ppl\": [{\"ID\": 177, \"ImgX\": 318, \"ImgY\": 268, \"ActLvl\": 12}, {\"ID\": 181, \"ImgX\": 322, \"ImgY\": 294, \"ActLvl\": 9}, {\"ID\": 193, \"ImgX\": 398, \"ImgY\": 334, \"ActLvl\": 1}, {\"ID\": 195, \"ImgX\": 406, \"ImgY\": 276, \"ActLvl\": 12}, {\"ID\": 200, \"ImgX\": 388, \"ImgY\": 96, \"ActLvl\": 3}, {\"ID\": 0, \"ImgX\": 186, \"ImgY\": 214, \"ActLvl\": 13}, {\"ID\": 7, \"ImgX\": 350, \"ImgY\": 284, \"ActLvl\": 11}, {\"ID\": 9, \"ImgX\": 210, \"ImgY\": 256, \"ActLvl\": 6}, {\"ID\": 11, \"ImgX\": 432, \"ImgY\": 266, \"ActLvl\": 8}, {\"ID\": 12, \"ImgX\": 192, \"ImgY\": 280, \"ActLvl\": 2}], \"time\": \"2022-7-7-0:49:20\"}'"
      ]
     },
     "execution_count": 9,
     "metadata": {},
     "output_type": "execute_result"
    }
   ],
   "source": [
    "a[0]"
   ]
  },
  {
   "cell_type": "code",
   "execution_count": 163,
   "metadata": {},
   "outputs": [
    {
     "data": {
      "text/plain": [
       "561"
      ]
     },
     "execution_count": 163,
     "metadata": {},
     "output_type": "execute_result"
    }
   ],
   "source": [
    "len(a[0])"
   ]
  },
  {
   "cell_type": "code",
   "execution_count": 159,
   "metadata": {},
   "outputs": [
    {
     "data": {
      "text/plain": [
       "{'temp': 22.3,\n",
       " 'CO2': 1674,\n",
       " 'RH': 47.6,\n",
       " 'PM25': 0.2,\n",
       " 'PplCnt': 8,\n",
       " 'OccStat': 1,\n",
       " 'LgtStat': 2,\n",
       " 'PNO': 15697,\n",
       " 'Ppl': [{'ID': 88, 'ImgX': 380, 'ImgY': 94, 'ActLvl': 1},\n",
       "  {'ID': 159, 'ImgX': 398, 'ImgY': 330, 'ActLvl': 9},\n",
       "  {'ID': 164, 'ImgX': 372, 'ImgY': 282, 'ActLvl': 7},\n",
       "  {'ID': 170, 'ImgX': 316, 'ImgY': 264, 'ActLvl': 21},\n",
       "  {'ID': 173, 'ImgX': 184, 'ImgY': 202, 'ActLvl': 35},\n",
       "  {'ID': 177, 'ImgX': 348, 'ImgY': 322, 'ActLvl': 9},\n",
       "  {'ID': 178, 'ImgX': 358, 'ImgY': 264, 'ActLvl': 11},\n",
       "  {'ID': 181, 'ImgX': 388, 'ImgY': 308, 'ActLvl': 8}],\n",
       " 'time': '2022-7-7-0:49:20'}"
      ]
     },
     "execution_count": 159,
     "metadata": {},
     "output_type": "execute_result"
    }
   ],
   "source": [
    "json.loads(a[0])"
   ]
  },
  {
   "cell_type": "code",
   "execution_count": null,
   "metadata": {},
   "outputs": [],
   "source": []
  },
  {
   "cell_type": "code",
   "execution_count": 37,
   "metadata": {},
   "outputs": [
    {
     "ename": "OSError",
     "evalue": "[Errno 22] Invalid argument",
     "output_type": "error",
     "traceback": [
      "\u001b[1;31m---------------------------------------------------------------------------\u001b[0m",
      "\u001b[1;31mOSError\u001b[0m                                   Traceback (most recent call last)",
      "Input \u001b[1;32mIn [37]\u001b[0m, in \u001b[0;36m<cell line: 4>\u001b[1;34m()\u001b[0m\n\u001b[0;32m      1\u001b[0m \u001b[38;5;28;01mfrom\u001b[39;00m \u001b[38;5;21;01mdatetime\u001b[39;00m \u001b[38;5;28;01mimport\u001b[39;00m datetime\n\u001b[0;32m      3\u001b[0m timestamp \u001b[38;5;241m=\u001b[39m \u001b[38;5;241m1546399394399\u001b[39m\n\u001b[1;32m----> 4\u001b[0m dt_object \u001b[38;5;241m=\u001b[39m \u001b[43mdatetime\u001b[49m\u001b[38;5;241;43m.\u001b[39;49m\u001b[43mfromtimestamp\u001b[49m\u001b[43m(\u001b[49m\u001b[43mtimestamp\u001b[49m\u001b[43m)\u001b[49m\n\u001b[0;32m      6\u001b[0m \u001b[38;5;28mprint\u001b[39m(\u001b[38;5;124m\"\u001b[39m\u001b[38;5;124mdt_object =\u001b[39m\u001b[38;5;124m\"\u001b[39m, dt_object)\n\u001b[0;32m      7\u001b[0m \u001b[38;5;28mprint\u001b[39m(\u001b[38;5;124m\"\u001b[39m\u001b[38;5;124mtype(dt_object) =\u001b[39m\u001b[38;5;124m\"\u001b[39m, \u001b[38;5;28mtype\u001b[39m(dt_object))\n",
      "\u001b[1;31mOSError\u001b[0m: [Errno 22] Invalid argument"
     ]
    }
   ],
   "source": [
    "from datetime import datetime\n",
    "\n",
    "timestamp = 1546399394399\n",
    "dt_object = datetime.fromtimestamp(timestamp)\n",
    "\n",
    "print(\"dt_object =\", dt_object)\n",
    "print(\"type(dt_object) =\", type(dt_object))"
   ]
  },
  {
   "cell_type": "code",
   "execution_count": 27,
   "metadata": {},
   "outputs": [],
   "source": [
    "from datetime import datetime"
   ]
  },
  {
   "cell_type": "code",
   "execution_count": 31,
   "metadata": {},
   "outputs": [
    {
     "data": {
      "text/plain": [
       "datetime.datetime(2022, 6, 22, 1, 24, 53, 909419)"
      ]
     },
     "execution_count": 31,
     "metadata": {},
     "output_type": "execute_result"
    }
   ],
   "source": [
    "datetime.now()"
   ]
  },
  {
   "cell_type": "code",
   "execution_count": 32,
   "metadata": {},
   "outputs": [
    {
     "name": "stdout",
     "output_type": "stream",
     "text": [
      "now = 01:25:03.229729\n",
      "type(now) = <class 'datetime.time'>\n"
     ]
    }
   ],
   "source": [
    "from datetime import datetime\n",
    "\n",
    "now = datetime.now().time() # time object\n",
    "\n",
    "print(\"now =\", now)\n",
    "print(\"type(now) =\", type(now))\t"
   ]
  },
  {
   "cell_type": "code",
   "execution_count": 39,
   "metadata": {},
   "outputs": [],
   "source": [
    "import pandas as pd"
   ]
  },
  {
   "cell_type": "code",
   "execution_count": 11,
   "metadata": {
    "scrolled": true
   },
   "outputs": [
    {
     "ename": "NameError",
     "evalue": "name 'data_json' is not defined",
     "output_type": "error",
     "traceback": [
      "\u001b[1;31m---------------------------------------------------------------------------\u001b[0m",
      "\u001b[1;31mNameError\u001b[0m                                 Traceback (most recent call last)",
      "\u001b[1;32mc:\\Users\\AIoT\\Desktop\\eric\\get_alldata.ipynb Cell 15'\u001b[0m in \u001b[0;36m<cell line: 1>\u001b[1;34m()\u001b[0m\n\u001b[1;32m----> <a href='vscode-notebook-cell:/c%3A/Users/AIoT/Desktop/eric/get_alldata.ipynb#ch0000008?line=0'>1</a>\u001b[0m pd\u001b[39m.\u001b[39mjson_normalize(data_json)\n",
      "\u001b[1;31mNameError\u001b[0m: name 'data_json' is not defined"
     ]
    }
   ],
   "source": [
    "pd.json_normalize(data_json)"
   ]
  },
  {
   "cell_type": "code",
   "execution_count": 12,
   "metadata": {},
   "outputs": [
    {
     "name": "stdout",
     "output_type": "stream",
     "text": [
      "{'Temp': '22.2', 'RH': '47.6', 'CO2': '1703', 'PM25': '0.1', 'PplCnt': 6.0, 'OccStat': 1, 'LgtStat': 2, 'PNO': 15777, 'Ppl': [{'ID': 195, 'ImgX': 322, 'ImgY': 274, 'ActLvl': 7}, {'ID': 200, 'ImgX': 384, 'ImgY': 100, 'ActLvl': 5}, {'ID': 0, 'ImgX': 186, 'ImgY': 208, 'ActLvl': 33}, {'ID': 9, 'ImgX': 206, 'ImgY': 256, 'ActLvl': 9}, {'ID': 12, 'ImgX': 180, 'ImgY': 284, 'ActLvl': 3}, {'ID': 15, 'ImgX': 418, 'ImgY': 284, 'ActLvl': 0}]}\n"
     ]
    }
   ],
   "source": [
    "url = \"http://192.168.1.167:3000/\"\n",
    "response = urlopen(url)\n",
    "\n",
    "data_json = json.loads(response.read())\n",
    "print(data_json)\n",
    "\n",
    "current = datetime.now().isoformat()\n",
    "current_time = current[:-3] + 'Z'\n",
    "df2=pd.DataFrame()\n",
    "df2['time'] = [current_time]\n",
    "\n",
    "df = pd.json_normalize(data_json)\n",
    "df3 = pd.concat([df2, df],axis=1)\n",
    "\n",
    "df3.to_csv(\"test.csv\", header = True, index = False, sep='\\t')"
   ]
  },
  {
   "cell_type": "code",
   "execution_count": 171,
   "metadata": {},
   "outputs": [
    {
     "name": "stdout",
     "output_type": "stream",
     "text": [
      "{'Temp': '26.5', 'RH': '40.5', 'CO2': '963', 'PM2.5': '4.0', 'PplCnt': 0.0, 'OccStat': 0, 'LgtStat': 0, 'PNO': 20626}\n",
      "{'Temp': '26.6', 'RH': '40.5', 'CO2': '964', 'PM2.5': '4.1', 'PplCnt': 0.0, 'OccStat': 0, 'LgtStat': 0, 'PNO': 20627}\n",
      "{'Temp': '26.6', 'RH': '40.5', 'CO2': '963', 'PM2.5': '4.1', 'PplCnt': 0.0, 'OccStat': 0, 'LgtStat': 0, 'PNO': 20628}\n",
      "{'Temp': '26.6', 'RH': '40.5', 'CO2': '967', 'PM2.5': '4.1', 'PplCnt': 0.0, 'OccStat': 0, 'LgtStat': 0, 'PNO': 20629}\n",
      "{'Temp': '26.5', 'RH': '40.5', 'CO2': '967', 'PM2.5': '4.2', 'PplCnt': 0.0, 'OccStat': 0, 'LgtStat': 0, 'PNO': 20630}\n"
     ]
    },
    {
     "ename": "KeyboardInterrupt",
     "evalue": "",
     "output_type": "error",
     "traceback": [
      "\u001b[1;31m---------------------------------------------------------------------------\u001b[0m",
      "\u001b[1;31mKeyboardInterrupt\u001b[0m                         Traceback (most recent call last)",
      "Input \u001b[1;32mIn [171]\u001b[0m, in \u001b[0;36m<cell line: 3>\u001b[1;34m()\u001b[0m\n\u001b[0;32m     14\u001b[0m df3 \u001b[38;5;241m=\u001b[39m pd\u001b[38;5;241m.\u001b[39mconcat([df2, df],axis\u001b[38;5;241m=\u001b[39m\u001b[38;5;241m1\u001b[39m)\n\u001b[0;32m     16\u001b[0m df3\u001b[38;5;241m.\u001b[39mto_csv(\u001b[38;5;124m\"\u001b[39m\u001b[38;5;124mtest.csv\u001b[39m\u001b[38;5;124m\"\u001b[39m, mode \u001b[38;5;241m=\u001b[39m \u001b[38;5;124m'\u001b[39m\u001b[38;5;124ma\u001b[39m\u001b[38;5;124m'\u001b[39m, header \u001b[38;5;241m=\u001b[39m \u001b[38;5;28;01mFalse\u001b[39;00m, index \u001b[38;5;241m=\u001b[39m \u001b[38;5;28;01mFalse\u001b[39;00m, sep\u001b[38;5;241m=\u001b[39m\u001b[38;5;124m'\u001b[39m\u001b[38;5;130;01m\\t\u001b[39;00m\u001b[38;5;124m'\u001b[39m)\n\u001b[1;32m---> 18\u001b[0m \u001b[43mtime\u001b[49m\u001b[38;5;241;43m.\u001b[39;49m\u001b[43msleep\u001b[49m\u001b[43m(\u001b[49m\u001b[38;5;241;43m5\u001b[39;49m\u001b[43m)\u001b[49m\n",
      "\u001b[1;31mKeyboardInterrupt\u001b[0m: "
     ]
    }
   ],
   "source": [
    "while True:\n",
    "    \n",
    "    url = \"http://192.168.1.167:3000/\"\n",
    "    response = urlopen(url)\n",
    "\n",
    "    data_json = json.loads(response.read())\n",
    "    print(data_json)\n",
    "    current = datetime.now().isoformat()\n",
    "    current_time = current[:-3] + 'Z'\n",
    "    df2=pd.DataFrame()\n",
    "    df2['time'] = [current_time]\n",
    "\n",
    "    df = pd.json_normalize(data_json)\n",
    "    df3 = pd.concat([df2, df],axis=1)\n",
    "   \n",
    "    df3.to_csv(\"test.csv\", mode = 'a', header = False, index = False, sep='\\t')\n",
    "    \n",
    "    time.sleep(5)"
   ]
  },
  {
   "cell_type": "code",
   "execution_count": 102,
   "metadata": {},
   "outputs": [],
   "source": [
    "# 2011-02-01T08:00:00.000Z #ISO 8601"
   ]
  },
  {
   "cell_type": "code",
   "execution_count": 82,
   "metadata": {},
   "outputs": [
    {
     "data": {
      "text/plain": [
       "'2022-06-22T02:11:08.276285Z'"
      ]
     },
     "execution_count": 82,
     "metadata": {},
     "output_type": "execute_result"
    }
   ],
   "source": [
    "datetime.now().strftime(\"%Y-%m-%dT%H:%M:%S.%fZ\")"
   ]
  },
  {
   "cell_type": "code",
   "execution_count": 81,
   "metadata": {},
   "outputs": [
    {
     "data": {
      "text/plain": [
       "'yyyy-MM-ddTHH:mm:ssZ'"
      ]
     },
     "execution_count": 81,
     "metadata": {},
     "output_type": "execute_result"
    }
   ],
   "source": [
    "datetime.now().strftime('yyyy-MM-dd' 'T' 'HH:mm:ssZ')"
   ]
  },
  {
   "cell_type": "code",
   "execution_count": 84,
   "metadata": {},
   "outputs": [
    {
     "data": {
      "text/plain": [
       "'YYYYMMDD HH:mm:ss (20130429 15:59:02)'"
      ]
     },
     "execution_count": 84,
     "metadata": {},
     "output_type": "execute_result"
    }
   ],
   "source": [
    "inDate = \"29-Apr-2013-15:59:02\"\n",
    "d = datetime.strptime(inDate, \"%d-%b-%Y-%H:%M:%S\")\n",
    "d.strftime(\"YYYYMMDD HH:mm:ss (%Y%m%d %H:%M:%S)\")"
   ]
  },
  {
   "cell_type": "code",
   "execution_count": 87,
   "metadata": {},
   "outputs": [],
   "source": [
    "from datetime import datetime, timezone, timedelta\n",
    "\n",
    "# 設定為 +8 時區\n",
    "tz = timezone(timedelta(hours=+8))\n",
    "\n",
    "# 取得現在時間、指定時區、轉為 ISO 格式\n",
    "current = datetime.now().isoformat()"
   ]
  },
  {
   "cell_type": "code",
   "execution_count": 100,
   "metadata": {},
   "outputs": [],
   "source": [
    "current_time = current[:-3] + 'Z'"
   ]
  },
  {
   "cell_type": "code",
   "execution_count": 159,
   "metadata": {},
   "outputs": [
    {
     "data": {
      "text/plain": [
       "'2022-06-22T02:33:08.143Z'"
      ]
     },
     "execution_count": 159,
     "metadata": {},
     "output_type": "execute_result"
    }
   ],
   "source": [
    "current_time"
   ]
  },
  {
   "cell_type": "code",
   "execution_count": 134,
   "metadata": {},
   "outputs": [],
   "source": [
    "time_list = ['time', current_time]"
   ]
  },
  {
   "cell_type": "code",
   "execution_count": 162,
   "metadata": {},
   "outputs": [],
   "source": [
    "df2=pd.DataFrame()"
   ]
  },
  {
   "cell_type": "code",
   "execution_count": 163,
   "metadata": {},
   "outputs": [],
   "source": [
    "df2['time'] = [current_time]"
   ]
  },
  {
   "cell_type": "code",
   "execution_count": 164,
   "metadata": {},
   "outputs": [
    {
     "data": {
      "text/html": [
       "<div>\n",
       "<style scoped>\n",
       "    .dataframe tbody tr th:only-of-type {\n",
       "        vertical-align: middle;\n",
       "    }\n",
       "\n",
       "    .dataframe tbody tr th {\n",
       "        vertical-align: top;\n",
       "    }\n",
       "\n",
       "    .dataframe thead th {\n",
       "        text-align: right;\n",
       "    }\n",
       "</style>\n",
       "<table border=\"1\" class=\"dataframe\">\n",
       "  <thead>\n",
       "    <tr style=\"text-align: right;\">\n",
       "      <th></th>\n",
       "      <th>time</th>\n",
       "    </tr>\n",
       "  </thead>\n",
       "  <tbody>\n",
       "    <tr>\n",
       "      <th>0</th>\n",
       "      <td>2022-06-22T02:33:08.143Z</td>\n",
       "    </tr>\n",
       "  </tbody>\n",
       "</table>\n",
       "</div>"
      ],
      "text/plain": [
       "                       time\n",
       "0  2022-06-22T02:33:08.143Z"
      ]
     },
     "execution_count": 164,
     "metadata": {},
     "output_type": "execute_result"
    }
   ],
   "source": [
    "df2"
   ]
  },
  {
   "cell_type": "code",
   "execution_count": 166,
   "metadata": {},
   "outputs": [],
   "source": [
    "df = pd.json_normalize(data_json)"
   ]
  },
  {
   "cell_type": "code",
   "execution_count": 167,
   "metadata": {
    "scrolled": true
   },
   "outputs": [
    {
     "data": {
      "text/html": [
       "<div>\n",
       "<style scoped>\n",
       "    .dataframe tbody tr th:only-of-type {\n",
       "        vertical-align: middle;\n",
       "    }\n",
       "\n",
       "    .dataframe tbody tr th {\n",
       "        vertical-align: top;\n",
       "    }\n",
       "\n",
       "    .dataframe thead th {\n",
       "        text-align: right;\n",
       "    }\n",
       "</style>\n",
       "<table border=\"1\" class=\"dataframe\">\n",
       "  <thead>\n",
       "    <tr style=\"text-align: right;\">\n",
       "      <th></th>\n",
       "      <th>Temp</th>\n",
       "      <th>RH</th>\n",
       "      <th>CO2</th>\n",
       "      <th>PM2.5</th>\n",
       "      <th>PplCnt</th>\n",
       "      <th>OccStat</th>\n",
       "      <th>LgtStat</th>\n",
       "      <th>PNO</th>\n",
       "    </tr>\n",
       "  </thead>\n",
       "  <tbody>\n",
       "    <tr>\n",
       "      <th>0</th>\n",
       "      <td>26.6</td>\n",
       "      <td>40.2</td>\n",
       "      <td>957</td>\n",
       "      <td>4.3</td>\n",
       "      <td>0.0</td>\n",
       "      <td>0</td>\n",
       "      <td>0</td>\n",
       "      <td>20492</td>\n",
       "    </tr>\n",
       "  </tbody>\n",
       "</table>\n",
       "</div>"
      ],
      "text/plain": [
       "   Temp    RH  CO2 PM2.5  PplCnt  OccStat  LgtStat    PNO\n",
       "0  26.6  40.2  957   4.3     0.0        0        0  20492"
      ]
     },
     "execution_count": 167,
     "metadata": {},
     "output_type": "execute_result"
    }
   ],
   "source": [
    "df"
   ]
  },
  {
   "cell_type": "code",
   "execution_count": 169,
   "metadata": {},
   "outputs": [
    {
     "data": {
      "text/html": [
       "<div>\n",
       "<style scoped>\n",
       "    .dataframe tbody tr th:only-of-type {\n",
       "        vertical-align: middle;\n",
       "    }\n",
       "\n",
       "    .dataframe tbody tr th {\n",
       "        vertical-align: top;\n",
       "    }\n",
       "\n",
       "    .dataframe thead th {\n",
       "        text-align: right;\n",
       "    }\n",
       "</style>\n",
       "<table border=\"1\" class=\"dataframe\">\n",
       "  <thead>\n",
       "    <tr style=\"text-align: right;\">\n",
       "      <th></th>\n",
       "      <th>time</th>\n",
       "      <th>Temp</th>\n",
       "      <th>RH</th>\n",
       "      <th>CO2</th>\n",
       "      <th>PM2.5</th>\n",
       "      <th>PplCnt</th>\n",
       "      <th>OccStat</th>\n",
       "      <th>LgtStat</th>\n",
       "      <th>PNO</th>\n",
       "    </tr>\n",
       "  </thead>\n",
       "  <tbody>\n",
       "    <tr>\n",
       "      <th>0</th>\n",
       "      <td>2022-06-22T02:33:08.143Z</td>\n",
       "      <td>26.6</td>\n",
       "      <td>40.2</td>\n",
       "      <td>957</td>\n",
       "      <td>4.3</td>\n",
       "      <td>0.0</td>\n",
       "      <td>0</td>\n",
       "      <td>0</td>\n",
       "      <td>20492</td>\n",
       "    </tr>\n",
       "  </tbody>\n",
       "</table>\n",
       "</div>"
      ],
      "text/plain": [
       "                       time  Temp    RH  CO2 PM2.5  PplCnt  OccStat  LgtStat  \\\n",
       "0  2022-06-22T02:33:08.143Z  26.6  40.2  957   4.3     0.0        0        0   \n",
       "\n",
       "     PNO  \n",
       "0  20492  "
      ]
     },
     "execution_count": 169,
     "metadata": {},
     "output_type": "execute_result"
    }
   ],
   "source": [
    "pd.concat([df2, df],axis=1)"
   ]
  }
 ],
 "metadata": {
  "kernelspec": {
   "display_name": "Python 3 (ipykernel)",
   "language": "python",
   "name": "python3"
  },
  "language_info": {
   "codemirror_mode": {
    "name": "ipython",
    "version": 3
   },
   "file_extension": ".py",
   "mimetype": "text/x-python",
   "name": "python",
   "nbconvert_exporter": "python",
   "pygments_lexer": "ipython3",
   "version": "3.9.12"
  },
  "vscode": {
   "interpreter": {
    "hash": "b713306a81ca1360e4cab88c2d75fc00798fd33ea169f9eb9d05d09e793578a7"
   }
  }
 },
 "nbformat": 4,
 "nbformat_minor": 2
}
